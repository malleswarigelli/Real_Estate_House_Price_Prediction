{
 "cells": [
  {
   "cell_type": "code",
   "execution_count": 1,
   "metadata": {},
   "outputs": [],
   "source": [
    "import pandas as pd"
   ]
  },
  {
   "cell_type": "code",
   "execution_count": 2,
   "metadata": {},
   "outputs": [],
   "source": [
    "import os, sys\n",
    "from housing.logger import logging\n",
    "from housing.exception import HousingException\n",
    "from housing.entity.config_entity import DataIngestionConfig, DataValidationConfig, DataTransformationConfig,  \\\n",
    "    ModelTrainerConfig, ModelEvaluationConfig, ModelPusherConfig, TrainingPipelineConfig\n",
    "from housing.util.util import read_yaml_file\n",
    "from housing.constant import *\n",
    "from housing.config.configuration import Configuration"
   ]
  },
  {
   "cell_type": "code",
   "execution_count": 3,
   "metadata": {},
   "outputs": [
    {
     "data": {
      "text/plain": [
       "'2023-02-13-10-27-21'"
      ]
     },
     "execution_count": 3,
     "metadata": {},
     "output_type": "execute_result"
    }
   ],
   "source": [
    "time_stamp = get_current_time_stamp()\n",
    "time_stamp"
   ]
  },
  {
   "cell_type": "code",
   "execution_count": 4,
   "metadata": {},
   "outputs": [
    {
     "data": {
      "text/plain": [
       "'c:\\\\Users\\\\anjik\\\\Desktop\\\\iNeuron_FSDS\\\\ML_end_to_end_projects\\\\REGRESSION_pipeline\\\\notebook'"
      ]
     },
     "execution_count": 4,
     "metadata": {},
     "output_type": "execute_result"
    }
   ],
   "source": [
    "os.getcwd()"
   ]
  },
  {
   "cell_type": "code",
   "execution_count": 5,
   "metadata": {},
   "outputs": [],
   "source": [
    "os.chdir(r\"C:\\Users\\anjik\\Desktop\\iNeuron_FSDS\\ML_end_to_end_projects\\REGRESSION_pipeline\")"
   ]
  },
  {
   "cell_type": "code",
   "execution_count": 6,
   "metadata": {},
   "outputs": [
    {
     "data": {
      "text/plain": [
       "'C:\\\\Users\\\\anjik\\\\Desktop\\\\iNeuron_FSDS\\\\ML_end_to_end_projects\\\\REGRESSION_pipeline'"
      ]
     },
     "execution_count": 6,
     "metadata": {},
     "output_type": "execute_result"
    }
   ],
   "source": [
    "os.getcwd()"
   ]
  },
  {
   "cell_type": "code",
   "execution_count": 21,
   "metadata": {},
   "outputs": [
    {
     "data": {
      "text/plain": [
       "'C:\\\\Users\\\\anjik\\\\Desktop\\\\iNeuron_FSDS\\\\ML_end_to_end_projects\\\\REGRESSION_pipeline\\\\config\\\\config.yaml'"
      ]
     },
     "execution_count": 21,
     "metadata": {},
     "output_type": "execute_result"
    }
   ],
   "source": [
    "config_path = os.path.join(os.getcwd(), 'config', 'config.yaml')\n",
    "config_path\n"
   ]
  },
  {
   "cell_type": "code",
   "execution_count": 22,
   "metadata": {},
   "outputs": [
    {
     "data": {
      "text/plain": [
       "{'training_pipeline_config': {'pipeline_name': 'housing',\n",
       "  'artifact_dir': 'artifact'},\n",
       " 'data_ingestion_config': {'dataset_download_url': 'https://raw.githubusercontent.com/ageron/handson-ml/master/datasets/housing/housing.tgz',\n",
       "  'raw_data_dir': 'raw_data',\n",
       "  'tgz_download_dir': 'tgz_data',\n",
       "  'ingested_dir': 'ingested_data',\n",
       "  'ingested_train_dir': 'train',\n",
       "  'ingested_test_dir': 'test'},\n",
       " 'data_validation_config': {'schema_dir': 'config',\n",
       "  'schema_file_name': 'schema.yaml',\n",
       "  'report_file_name': 'report.json',\n",
       "  'report_page_file_name': 'report.html'},\n",
       " 'data_transformation_config': {'add_bedroom_per_room': True,\n",
       "  'transformed_dir': 'transformed_data',\n",
       "  'transformed_train_dir': 'train',\n",
       "  'transformed_test_dir': 'test',\n",
       "  'preprocessing_dir': 'preprocessed',\n",
       "  'preprocessed_object_file_name': 'preprocessed.pkl'},\n",
       " 'model_trainer_config': {'trained_model_dir': 'trained_model',\n",
       "  'model_file_name': 'model.pkl',\n",
       "  'base_accuracy': 0.6,\n",
       "  'model_config_dir': 'config',\n",
       "  'model_config_file_name': 'model.yaml'},\n",
       " 'model_evaluation_config': {'model_evaluation_file_name': 'model_evaluation.yaml'},\n",
       " 'model_pusher_config': {'model_export_dir': 'saved_models'}}"
      ]
     },
     "execution_count": 22,
     "metadata": {},
     "output_type": "execute_result"
    }
   ],
   "source": [
    "config_info = read_yaml_file(file_path = config_path)\n",
    "config_info"
   ]
  },
  {
   "cell_type": "code",
   "execution_count": 23,
   "metadata": {},
   "outputs": [
    {
     "data": {
      "text/plain": [
       "<housing.config.configuration.Configuration at 0x265363f20c8>"
      ]
     },
     "execution_count": 23,
     "metadata": {},
     "output_type": "execute_result"
    }
   ],
   "source": [
    "config = Configuration(config_file_path = config_path, current_time_stamp = time_stamp)\n",
    "config"
   ]
  },
  {
   "cell_type": "code",
   "execution_count": 10,
   "metadata": {},
   "outputs": [
    {
     "data": {
      "text/plain": [
       "DataIngestionConfig(dataset_download_url='https://raw.githubusercontent.com/ageron/handson-ml/master/datasets/housing/housing.tgz', tgz_download_dir='c:\\\\Users\\\\anjik\\\\Desktop\\\\iNeuron_FSDS\\\\ML_end_to_end_projects\\\\REGRESSION_pipeline\\\\notebook\\\\housing\\\\artifact\\\\data_ingestion\\\\2023-02-13-10-27-21\\\\tgz_data', raw_data_dir='c:\\\\Users\\\\anjik\\\\Desktop\\\\iNeuron_FSDS\\\\ML_end_to_end_projects\\\\REGRESSION_pipeline\\\\notebook\\\\housing\\\\artifact\\\\data_ingestion\\\\2023-02-13-10-27-21\\\\raw_data', ingested_train_dir='c:\\\\Users\\\\anjik\\\\Desktop\\\\iNeuron_FSDS\\\\ML_end_to_end_projects\\\\REGRESSION_pipeline\\\\notebook\\\\housing\\\\artifact\\\\data_ingestion\\\\2023-02-13-10-27-21\\\\ingested_data\\\\train', ingested_test_dir='c:\\\\Users\\\\anjik\\\\Desktop\\\\iNeuron_FSDS\\\\ML_end_to_end_projects\\\\REGRESSION_pipeline\\\\notebook\\\\housing\\\\artifact\\\\data_ingestion\\\\2023-02-13-10-27-21\\\\ingested_data\\\\test')"
      ]
     },
     "execution_count": 10,
     "metadata": {},
     "output_type": "execute_result"
    }
   ],
   "source": [
    "config.get_data_ingestion_config()"
   ]
  },
  {
   "cell_type": "code",
   "execution_count": 11,
   "metadata": {},
   "outputs": [
    {
     "data": {
      "text/plain": [
       "DataValidationConfig(schema_file_path='c:\\\\Users\\\\anjik\\\\Desktop\\\\iNeuron_FSDS\\\\ML_end_to_end_projects\\\\REGRESSION_pipeline\\\\notebook\\\\config\\\\schema.yaml', report_file_path='c:\\\\Users\\\\anjik\\\\Desktop\\\\iNeuron_FSDS\\\\ML_end_to_end_projects\\\\REGRESSION_pipeline\\\\notebook\\\\housing\\\\artifact\\\\data_validation\\\\2023-02-13-10-27-21\\\\report.json', report_page_file_path='c:\\\\Users\\\\anjik\\\\Desktop\\\\iNeuron_FSDS\\\\ML_end_to_end_projects\\\\REGRESSION_pipeline\\\\notebook\\\\housing\\\\artifact\\\\data_validation\\\\2023-02-13-10-27-21\\\\report.html')"
      ]
     },
     "execution_count": 11,
     "metadata": {},
     "output_type": "execute_result"
    }
   ],
   "source": [
    "config.get_data_validation_config()"
   ]
  },
  {
   "cell_type": "code",
   "execution_count": 12,
   "metadata": {},
   "outputs": [
    {
     "data": {
      "text/plain": [
       "DataTransformationConfig(add_bedroom_per_room=True, transformed_train_dir='c:\\\\Users\\\\anjik\\\\Desktop\\\\iNeuron_FSDS\\\\ML_end_to_end_projects\\\\REGRESSION_pipeline\\\\notebook\\\\housing\\\\artifact\\\\data_transformation\\\\2023-02-13-10-27-21\\\\transformed_data\\\\train', transformed_test_dir='c:\\\\Users\\\\anjik\\\\Desktop\\\\iNeuron_FSDS\\\\ML_end_to_end_projects\\\\REGRESSION_pipeline\\\\notebook\\\\housing\\\\artifact\\\\data_transformation\\\\2023-02-13-10-27-21\\\\transformed_data\\\\test', preprocessed_object_file_path='c:\\\\Users\\\\anjik\\\\Desktop\\\\iNeuron_FSDS\\\\ML_end_to_end_projects\\\\REGRESSION_pipeline\\\\notebook\\\\housing\\\\artifact\\\\data_transformation\\\\2023-02-13-10-27-21\\\\preprocessed\\\\preprocessed.pkl')"
      ]
     },
     "execution_count": 12,
     "metadata": {},
     "output_type": "execute_result"
    }
   ],
   "source": [
    "config.get_data_transformation_config()"
   ]
  },
  {
   "cell_type": "code",
   "execution_count": 13,
   "metadata": {},
   "outputs": [
    {
     "data": {
      "text/plain": [
       "ModelTrainerConfig(trained_model_file_path='c:\\\\Users\\\\anjik\\\\Desktop\\\\iNeuron_FSDS\\\\ML_end_to_end_projects\\\\REGRESSION_pipeline\\\\notebook\\\\housing\\\\artifact\\\\model_trainer\\\\2023-02-13-10-27-21\\\\trained_model\\\\model.pkl', base_accuracy=0.6, model_config_file_path='c:\\\\Users\\\\anjik\\\\Desktop\\\\iNeuron_FSDS\\\\ML_end_to_end_projects\\\\REGRESSION_pipeline\\\\notebook\\\\config\\\\model.yaml')"
      ]
     },
     "execution_count": 13,
     "metadata": {},
     "output_type": "execute_result"
    }
   ],
   "source": [
    "config.get_model_trainer_config()"
   ]
  },
  {
   "cell_type": "code",
   "execution_count": 14,
   "metadata": {},
   "outputs": [
    {
     "data": {
      "text/plain": [
       "ModelEvaluationConfig(model_evaluation_file_path='c:\\\\Users\\\\anjik\\\\Desktop\\\\iNeuron_FSDS\\\\ML_end_to_end_projects\\\\REGRESSION_pipeline\\\\notebook\\\\housing\\\\artifact\\\\model_evaluation\\\\model_evaluation.yaml', time_stamp='2023-02-13-10-27-21')"
      ]
     },
     "execution_count": 14,
     "metadata": {},
     "output_type": "execute_result"
    }
   ],
   "source": [
    "config.get_model_evaluation_config()"
   ]
  },
  {
   "cell_type": "code",
   "execution_count": 15,
   "metadata": {},
   "outputs": [
    {
     "data": {
      "text/plain": [
       "ModelPusherConfig(export_dir_path='c:\\\\Users\\\\anjik\\\\Desktop\\\\iNeuron_FSDS\\\\ML_end_to_end_projects\\\\REGRESSION_pipeline\\\\notebook\\\\saved_models\\\\20230213102722')"
      ]
     },
     "execution_count": 15,
     "metadata": {},
     "output_type": "execute_result"
    }
   ],
   "source": [
    "config.get_model_pusher_config()"
   ]
  },
  {
   "cell_type": "code",
   "execution_count": 16,
   "metadata": {},
   "outputs": [
    {
     "data": {
      "text/plain": [
       "TrainingPipelineConfig(artifact_dir='c:\\\\Users\\\\anjik\\\\Desktop\\\\iNeuron_FSDS\\\\ML_end_to_end_projects\\\\REGRESSION_pipeline\\\\notebook\\\\housing\\\\artifact')"
      ]
     },
     "execution_count": 16,
     "metadata": {},
     "output_type": "execute_result"
    }
   ],
   "source": [
    "config.get_training_pipeline_config()"
   ]
  },
  {
   "attachments": {},
   "cell_type": "markdown",
   "metadata": {},
   "source": [
    "## check model.yaml file format"
   ]
  },
  {
   "cell_type": "code",
   "execution_count": 17,
   "metadata": {},
   "outputs": [],
   "source": [
    "model_file = r\"C:\\Users\\anjik\\Desktop\\iNeuron_FSDS\\ML_end_to_end_projects\\REGRESSION_pipeline\\config\\model.yaml\""
   ]
  },
  {
   "cell_type": "code",
   "execution_count": 18,
   "metadata": {},
   "outputs": [
    {
     "data": {
      "text/plain": [
       "{'grid_search': {'class': 'GridSearchCV',\n",
       "  'module': 'sklearn.model_selection',\n",
       "  'params': {'cv': 5, 'verbose': 2}},\n",
       " 'model_selection': {'module_0': {'class': 'LinearRegression',\n",
       "   'module': 'sklearn.linear_model',\n",
       "   'params': {'fit_intercept': True},\n",
       "   'search_param_grid': {'fit_intercept': [True, False]}},\n",
       "  'module_1': {'class': 'RandomForestRegressor',\n",
       "   'module': 'sklearn.ensemble',\n",
       "   'params': {'min_samples_leaf': 3},\n",
       "   'search_param_grid': {'min_samples_leaf': [6]}}}}"
      ]
     },
     "execution_count": 18,
     "metadata": {},
     "output_type": "execute_result"
    }
   ],
   "source": [
    "model_file_config = read_yaml_file(file_path=model_file)\n",
    "model_file_config"
   ]
  },
  {
   "attachments": {},
   "cell_type": "markdown",
   "metadata": {},
   "source": [
    "# check schema.yaml file format"
   ]
  },
  {
   "cell_type": "code",
   "execution_count": 19,
   "metadata": {},
   "outputs": [],
   "source": [
    "schema_file = r\"C:\\Users\\anjik\\Desktop\\iNeuron_FSDS\\ML_end_to_end_projects\\REGRESSION_pipeline\\config\\schema.yaml\""
   ]
  },
  {
   "cell_type": "code",
   "execution_count": 20,
   "metadata": {},
   "outputs": [
    {
     "data": {
      "text/plain": [
       "{'columns': {'longitude': 'float',\n",
       "  'latitude': 'float',\n",
       "  'housing_median_age': 'float',\n",
       "  'total_rooms': 'float',\n",
       "  'total_bedrooms': 'float',\n",
       "  'population': 'float',\n",
       "  'households': 'float',\n",
       "  'median_income': 'float',\n",
       "  'median_house_value': 'float',\n",
       "  'ocean_proximity': 'category'},\n",
       " 'numerical_columns': ['longitude',\n",
       "  'latitude',\n",
       "  'housing_median_age',\n",
       "  'total_rooms',\n",
       "  'total_bedrooms',\n",
       "  'population',\n",
       "  'households',\n",
       "  'median_income'],\n",
       " 'categorical_columns': ['ocean_proximity'],\n",
       " 'target_column': 'median_house_value',\n",
       " 'domain_value': {'ocean_proximity': ['<1H OCEAN',\n",
       "   'INLAND',\n",
       "   'ISLAND',\n",
       "   'NEAR BAY',\n",
       "   'NEAR OCEAN']}}"
      ]
     },
     "execution_count": 20,
     "metadata": {},
     "output_type": "execute_result"
    }
   ],
   "source": [
    "schema_config = read_yaml_file(file_path=schema_file)\n",
    "schema_config"
   ]
  },
  {
   "cell_type": "code",
   "execution_count": null,
   "metadata": {},
   "outputs": [],
   "source": []
  }
 ],
 "metadata": {
  "kernelspec": {
   "display_name": "Python 3",
   "language": "python",
   "name": "python3"
  },
  "language_info": {
   "codemirror_mode": {
    "name": "ipython",
    "version": 3
   },
   "file_extension": ".py",
   "mimetype": "text/x-python",
   "name": "python",
   "nbconvert_exporter": "python",
   "pygments_lexer": "ipython3",
   "version": "3.7.16"
  },
  "orig_nbformat": 4,
  "vscode": {
   "interpreter": {
    "hash": "4241844f93fd5ac3b155bec8e4b5e0b8cc473dcb05ff27c760b4265fd1d788e0"
   }
  }
 },
 "nbformat": 4,
 "nbformat_minor": 2
}
