{
 "cells": [
  {
   "attachments": {},
   "cell_type": "markdown",
   "metadata": {},
   "source": [
    "### Read train, test files; compare the dtype of columns with SCHEMA.yaml file; CONVERT train, test files to DATAFRAME"
   ]
  },
  {
   "attachments": {},
   "cell_type": "markdown",
   "metadata": {},
   "source": [
    "### Load schema.yaml file"
   ]
  },
  {
   "cell_type": "code",
   "execution_count": 1,
   "metadata": {},
   "outputs": [],
   "source": [
    "schema_file_path = r\"C:\\Users\\anjik\\Desktop\\iNeuron_FSDS\\ML_end_to_end_projects\\REGRESSION_pipeline\\config\\schema.yaml\""
   ]
  },
  {
   "cell_type": "code",
   "execution_count": 2,
   "metadata": {},
   "outputs": [],
   "source": [
    "from housing.util.util import read_yaml_file"
   ]
  },
  {
   "cell_type": "code",
   "execution_count": 3,
   "metadata": {},
   "outputs": [
    {
     "data": {
      "text/plain": [
       "{'columns': {'longitude': 'float',\n",
       "  'latitude': 'float',\n",
       "  'housing_median_age': 'float',\n",
       "  'total_rooms': 'float',\n",
       "  'total_bedrooms': 'float',\n",
       "  'population': 'float',\n",
       "  'households': 'float',\n",
       "  'median_income': 'float',\n",
       "  'median_house_value': 'float',\n",
       "  'ocean_proximity': 'category'},\n",
       " 'numerical_columns': ['longitude',\n",
       "  'latitude',\n",
       "  'housing_median_age',\n",
       "  'total_rooms',\n",
       "  'total_bedrooms',\n",
       "  'population',\n",
       "  'households',\n",
       "  'median_income'],\n",
       " 'categorical_columns': ['ocean_proximity'],\n",
       " 'target_column': 'median_house_value',\n",
       " 'domain_value': {'ocean_proximity': ['<1H OCEAN',\n",
       "   'INLAND',\n",
       "   'ISLAND',\n",
       "   'NEAR BAY',\n",
       "   'NEAR OCEAN']}}"
      ]
     },
     "execution_count": 3,
     "metadata": {},
     "output_type": "execute_result"
    }
   ],
   "source": [
    "dataset_schema = read_yaml_file(file_path=schema_file_path)\n",
    "dataset_schema"
   ]
  },
  {
   "cell_type": "code",
   "execution_count": 4,
   "metadata": {},
   "outputs": [],
   "source": [
    "from housing.constant import *"
   ]
  },
  {
   "cell_type": "code",
   "execution_count": 5,
   "metadata": {},
   "outputs": [
    {
     "data": {
      "text/plain": [
       "{'longitude': 'float',\n",
       " 'latitude': 'float',\n",
       " 'housing_median_age': 'float',\n",
       " 'total_rooms': 'float',\n",
       " 'total_bedrooms': 'float',\n",
       " 'population': 'float',\n",
       " 'households': 'float',\n",
       " 'median_income': 'float',\n",
       " 'median_house_value': 'float',\n",
       " 'ocean_proximity': 'category'}"
      ]
     },
     "execution_count": 5,
     "metadata": {},
     "output_type": "execute_result"
    }
   ],
   "source": [
    "schema_columns = dataset_schema[DATASET_SCHEMA_COLUMNS_KEY]\n",
    "schema_columns"
   ]
  },
  {
   "attachments": {},
   "cell_type": "markdown",
   "metadata": {},
   "source": [
    "## Read train, test files (housing.csv) from Data Ingestion Artifact"
   ]
  },
  {
   "cell_type": "code",
   "execution_count": 6,
   "metadata": {},
   "outputs": [],
   "source": [
    "from housing.entity.artifact_entity import DataIngestionArtifact\n",
    "from housing.component.data_ingestion import DataIngestion\n",
    "from housing.config.configuration import Configuration"
   ]
  },
  {
   "cell_type": "code",
   "execution_count": 7,
   "metadata": {},
   "outputs": [
    {
     "data": {
      "text/plain": [
       "'c:\\\\Users\\\\anjik\\\\Desktop\\\\iNeuron_FSDS\\\\ML_end_to_end_projects\\\\REGRESSION_pipeline\\\\notebook'"
      ]
     },
     "execution_count": 7,
     "metadata": {},
     "output_type": "execute_result"
    }
   ],
   "source": [
    "os.getcwd()"
   ]
  },
  {
   "cell_type": "code",
   "execution_count": 8,
   "metadata": {},
   "outputs": [
    {
     "data": {
      "text/plain": [
       "'C:\\\\Users\\\\anjik\\\\Desktop\\\\iNeuron_FSDS\\\\ML_end_to_end_projects\\\\REGRESSION_pipeline'"
      ]
     },
     "execution_count": 8,
     "metadata": {},
     "output_type": "execute_result"
    }
   ],
   "source": [
    "os.chdir(r\"C:\\Users\\anjik\\Desktop\\iNeuron_FSDS\\ML_end_to_end_projects\\REGRESSION_pipeline\")\n",
    "os.getcwd()"
   ]
  },
  {
   "cell_type": "code",
   "execution_count": 9,
   "metadata": {},
   "outputs": [
    {
     "data": {
      "text/plain": [
       "'C:\\\\Users\\\\anjik\\\\Desktop\\\\iNeuron_FSDS\\\\ML_end_to_end_projects\\\\REGRESSION_pipeline\\\\config\\\\config.yaml'"
      ]
     },
     "execution_count": 9,
     "metadata": {},
     "output_type": "execute_result"
    }
   ],
   "source": [
    "config_file_path = os.path.join(os.getcwd(), 'config','config.yaml')\n",
    "config_file_path"
   ]
  },
  {
   "cell_type": "code",
   "execution_count": 10,
   "metadata": {},
   "outputs": [
    {
     "data": {
      "text/plain": [
       "'2023-02-14-08-22-28'"
      ]
     },
     "execution_count": 10,
     "metadata": {},
     "output_type": "execute_result"
    }
   ],
   "source": [
    "# get current time stamp from constant\n",
    "current_time_stamp = CURRENT_TIME_STAMP\n",
    "current_time_stamp"
   ]
  },
  {
   "cell_type": "code",
   "execution_count": 11,
   "metadata": {},
   "outputs": [
    {
     "data": {
      "text/plain": [
       "{'training_pipeline_config': {'pipeline_name': 'housing',\n",
       "  'artifact_dir': 'artifact'},\n",
       " 'data_ingestion_config': {'dataset_download_url': 'https://raw.githubusercontent.com/ageron/handson-ml/master/datasets/housing/housing.tgz',\n",
       "  'raw_data_dir': 'raw_data',\n",
       "  'tgz_download_dir': 'tgz_data',\n",
       "  'ingested_dir': 'ingested_data',\n",
       "  'ingested_train_dir': 'train',\n",
       "  'ingested_test_dir': 'test'},\n",
       " 'data_validation_config': {'schema_dir': 'config',\n",
       "  'schema_file_name': 'schema.yaml',\n",
       "  'report_file_name': 'report.json',\n",
       "  'report_page_file_name': 'report.html'},\n",
       " 'data_transformation_config': {'add_bedroom_per_room': True,\n",
       "  'transformed_dir': 'transformed_data',\n",
       "  'transformed_train_dir': 'train',\n",
       "  'transformed_test_dir': 'test',\n",
       "  'preprocessing_dir': 'preprocessed',\n",
       "  'preprocessed_object_file_name': 'preprocessed.pkl'},\n",
       " 'model_trainer_config': {'trained_model_dir': 'trained_model',\n",
       "  'model_file_name': 'model.pkl',\n",
       "  'base_accuracy': 0.6,\n",
       "  'model_config_dir': 'config',\n",
       "  'model_config_file_name': 'model.yaml'},\n",
       " 'model_evaluation_config': {'model_evaluation_file_name': 'model_evaluation.yaml'},\n",
       " 'model_pusher_config': {'model_export_dir': 'saved_models'}}"
      ]
     },
     "execution_count": 11,
     "metadata": {},
     "output_type": "execute_result"
    }
   ],
   "source": [
    "# read config.yaml file\n",
    "config_info = read_yaml_file(file_path = config_file_path)\n",
    "config_info"
   ]
  },
  {
   "cell_type": "code",
   "execution_count": 12,
   "metadata": {},
   "outputs": [
    {
     "data": {
      "text/plain": [
       "<housing.config.configuration.Configuration at 0x212c3985d08>"
      ]
     },
     "execution_count": 12,
     "metadata": {},
     "output_type": "execute_result"
    }
   ],
   "source": [
    "# create object for Configuration class \n",
    "config = Configuration(config_file_path = config_file_path, current_time_stamp = current_time_stamp)\n",
    "config"
   ]
  },
  {
   "cell_type": "code",
   "execution_count": 17,
   "metadata": {},
   "outputs": [
    {
     "data": {
      "text/plain": [
       "DataIngestionConfig(dataset_download_url='https://raw.githubusercontent.com/ageron/handson-ml/master/datasets/housing/housing.tgz', tgz_download_dir='c:\\\\Users\\\\anjik\\\\Desktop\\\\iNeuron_FSDS\\\\ML_end_to_end_projects\\\\REGRESSION_pipeline\\\\notebook\\\\housing\\\\artifact\\\\data_ingestion\\\\2023-02-14-08-22-28\\\\tgz_data', raw_data_dir='c:\\\\Users\\\\anjik\\\\Desktop\\\\iNeuron_FSDS\\\\ML_end_to_end_projects\\\\REGRESSION_pipeline\\\\notebook\\\\housing\\\\artifact\\\\data_ingestion\\\\2023-02-14-08-22-28\\\\raw_data', ingested_train_dir='c:\\\\Users\\\\anjik\\\\Desktop\\\\iNeuron_FSDS\\\\ML_end_to_end_projects\\\\REGRESSION_pipeline\\\\notebook\\\\housing\\\\artifact\\\\data_ingestion\\\\2023-02-14-08-22-28\\\\ingested_data\\\\train', ingested_test_dir='c:\\\\Users\\\\anjik\\\\Desktop\\\\iNeuron_FSDS\\\\ML_end_to_end_projects\\\\REGRESSION_pipeline\\\\notebook\\\\housing\\\\artifact\\\\data_ingestion\\\\2023-02-14-08-22-28\\\\ingested_data\\\\test')"
      ]
     },
     "execution_count": 17,
     "metadata": {},
     "output_type": "execute_result"
    }
   ],
   "source": [
    "data_ingestion_config= config.get_data_ingestion_config()\n",
    "data_ingestion_config"
   ]
  },
  {
   "cell_type": "code",
   "execution_count": 18,
   "metadata": {},
   "outputs": [
    {
     "data": {
      "text/plain": [
       "<housing.component.data_ingestion.DataIngestion at 0x212d4de3c08>"
      ]
     },
     "execution_count": 18,
     "metadata": {},
     "output_type": "execute_result"
    }
   ],
   "source": [
    "## data ingestion artifact\n",
    "obj = DataIngestion(data_ingestion_config=data_ingestion_config)\n",
    "obj"
   ]
  },
  {
   "cell_type": "code",
   "execution_count": 19,
   "metadata": {},
   "outputs": [
    {
     "data": {
      "text/plain": [
       "DataIngestionArtifact(train_file_path='c:\\\\Users\\\\anjik\\\\Desktop\\\\iNeuron_FSDS\\\\ML_end_to_end_projects\\\\REGRESSION_pipeline\\\\notebook\\\\housing\\\\artifact\\\\data_ingestion\\\\2023-02-14-08-22-28\\\\ingested_data\\\\train\\\\housing.csv', test_file_path='c:\\\\Users\\\\anjik\\\\Desktop\\\\iNeuron_FSDS\\\\ML_end_to_end_projects\\\\REGRESSION_pipeline\\\\notebook\\\\housing\\\\artifact\\\\data_ingestion\\\\2023-02-14-08-22-28\\\\ingested_data\\\\test\\\\housing.csv', is_ingested=True, message='Data ingestion completed successfully.')"
      ]
     },
     "execution_count": 19,
     "metadata": {},
     "output_type": "execute_result"
    }
   ],
   "source": [
    "data_ingestion_artifact = obj.initiate_data_ingestion()\n",
    "data_ingestion_artifact"
   ]
  },
  {
   "cell_type": "code",
   "execution_count": 20,
   "metadata": {},
   "outputs": [
    {
     "data": {
      "text/plain": [
       "'c:\\\\Users\\\\anjik\\\\Desktop\\\\iNeuron_FSDS\\\\ML_end_to_end_projects\\\\REGRESSION_pipeline\\\\notebook\\\\housing\\\\artifact\\\\data_ingestion\\\\2023-02-14-08-22-28\\\\ingested_data\\\\train\\\\housing.csv'"
      ]
     },
     "execution_count": 20,
     "metadata": {},
     "output_type": "execute_result"
    }
   ],
   "source": [
    "train_file_path = data_ingestion_artifact.train_file_path\n",
    "train_file_path"
   ]
  },
  {
   "cell_type": "code",
   "execution_count": 21,
   "metadata": {},
   "outputs": [
    {
     "data": {
      "text/plain": [
       "'c:\\\\Users\\\\anjik\\\\Desktop\\\\iNeuron_FSDS\\\\ML_end_to_end_projects\\\\REGRESSION_pipeline\\\\notebook\\\\housing\\\\artifact\\\\data_ingestion\\\\2023-02-14-08-22-28\\\\ingested_data\\\\test\\\\housing.csv'"
      ]
     },
     "execution_count": 21,
     "metadata": {},
     "output_type": "execute_result"
    }
   ],
   "source": [
    "test_file_path = data_ingestion_artifact.test_file_path\n",
    "test_file_path"
   ]
  },
  {
   "attachments": {},
   "cell_type": "markdown",
   "metadata": {},
   "source": [
    "## convert train, test files into pandas dataframes"
   ]
  },
  {
   "cell_type": "code",
   "execution_count": 24,
   "metadata": {},
   "outputs": [
    {
     "data": {
      "text/plain": [
       "Index(['longitude', 'latitude', 'housing_median_age', 'total_rooms',\n",
       "       'total_bedrooms', 'population', 'households', 'median_income',\n",
       "       'median_house_value', 'ocean_proximity'],\n",
       "      dtype='object')"
      ]
     },
     "execution_count": 24,
     "metadata": {},
     "output_type": "execute_result"
    }
   ],
   "source": [
    "import pandas as pd\n",
    "train_df = pd.read_csv(train_file_path)\n",
    "train_df.columns"
   ]
  },
  {
   "cell_type": "code",
   "execution_count": 25,
   "metadata": {},
   "outputs": [
    {
     "data": {
      "text/plain": [
       "Index(['longitude', 'latitude', 'housing_median_age', 'total_rooms',\n",
       "       'total_bedrooms', 'population', 'households', 'median_income',\n",
       "       'median_house_value', 'ocean_proximity'],\n",
       "      dtype='object')"
      ]
     },
     "execution_count": 25,
     "metadata": {},
     "output_type": "execute_result"
    }
   ],
   "source": [
    "import pandas as pd\n",
    "test_df = pd.read_csv(test_file_path)\n",
    "test_df.columns"
   ]
  },
  {
   "cell_type": "code",
   "execution_count": 31,
   "metadata": {},
   "outputs": [],
   "source": [
    "for col in train_df.columns:\n",
    "    if col in list(schema_columns.keys()):\n",
    "        train_df[col].astype(schema_columns[col])\n",
    "    else:\n",
    "        print('train_df columns are not same as schema_columns')"
   ]
  },
  {
   "cell_type": "code",
   "execution_count": 32,
   "metadata": {},
   "outputs": [
    {
     "name": "stdout",
     "output_type": "stream",
     "text": [
      "   longitude  latitude  housing_median_age  total_rooms  total_bedrooms  \\\n",
      "0    -121.46     38.52                29.0       3873.0           797.0   \n",
      "1    -117.23     33.09                 7.0       5320.0           855.0   \n",
      "2    -119.04     35.37                44.0       1618.0           310.0   \n",
      "3    -117.13     32.75                24.0       1877.0           519.0   \n",
      "4    -118.70     34.28                27.0       3536.0           646.0   \n",
      "\n",
      "   population  households  median_income  median_house_value ocean_proximity  \n",
      "0      2237.0       706.0         2.1736             72100.0          INLAND  \n",
      "1      2015.0       768.0         6.3373            279600.0      NEAR OCEAN  \n",
      "2       667.0       300.0         2.8750             82700.0          INLAND  \n",
      "3       898.0       483.0         2.2264            112500.0      NEAR OCEAN  \n",
      "4      1837.0       580.0         4.4964            238300.0       <1H OCEAN  \n"
     ]
    }
   ],
   "source": [
    "print(train_df.head())"
   ]
  },
  {
   "cell_type": "code",
   "execution_count": null,
   "metadata": {},
   "outputs": [],
   "source": []
  }
 ],
 "metadata": {
  "kernelspec": {
   "display_name": "Python 3",
   "language": "python",
   "name": "python3"
  },
  "language_info": {
   "codemirror_mode": {
    "name": "ipython",
    "version": 3
   },
   "file_extension": ".py",
   "mimetype": "text/x-python",
   "name": "python",
   "nbconvert_exporter": "python",
   "pygments_lexer": "ipython3",
   "version": "3.7.16"
  },
  "orig_nbformat": 4,
  "vscode": {
   "interpreter": {
    "hash": "4241844f93fd5ac3b155bec8e4b5e0b8cc473dcb05ff27c760b4265fd1d788e0"
   }
  }
 },
 "nbformat": 4,
 "nbformat_minor": 2
}
